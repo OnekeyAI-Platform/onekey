{
 "cells": [
  {
   "cell_type": "markdown",
   "id": "e8b27860",
   "metadata": {},
   "source": [
    "# Patch feature extraction\n",
    "You need to enter the training files corresponding to the two test sets of 'train' and 'valid', with one sample per row. 'labels.txt' is an optional argument with one row for each category. 'data_pattern' is a generic directory that is spliced with the first column in train and val."
   ]
  },
  {
   "cell_type": "code",
   "execution_count": null,
   "id": "58acb50f",
   "metadata": {},
   "outputs": [],
   "source": []
  },
  {
   "cell_type": "code",
   "execution_count": null,
   "id": "53f0a6f4",
   "metadata": {},
   "outputs": [],
   "source": []
  },
  {
   "cell_type": "code",
   "execution_count": null,
   "id": "1375419c",
   "metadata": {},
   "outputs": [],
   "source": [
    "\n"
   ]
  },
  {
   "cell_type": "code",
   "execution_count": null,
   "id": "c64a9bda",
   "metadata": {},
   "outputs": [],
   "source": []
  },
  {
   "cell_type": "code",
   "execution_count": null,
   "id": "65dbc9fa",
   "metadata": {},
   "outputs": [],
   "source": []
  },
  {
   "cell_type": "code",
   "execution_count": null,
   "id": "b9ec2e39",
   "metadata": {},
   "outputs": [],
   "source": []
  },
  {
   "cell_type": "markdown",
   "id": "0e861016",
   "metadata": {},
   "source": []
  },
  {
   "cell_type": "code",
   "execution_count": null,
   "id": "83513dd1",
   "metadata": {},
   "outputs": [],
   "source": []
  },
  {
   "cell_type": "code",
   "execution_count": null,
   "id": "7050436a",
   "metadata": {},
   "outputs": [],
   "source": [
    "# train.txt: a list of training data\n",
    "# val.txt: a list of validation data\n",
    "# labels.txt: a collection of labels that indicates how many labels are used in the training data\n",
    "# data_pattern: the common prefix of the directory where all data exists, if it is train.txt, the val.txt file is stored in the absolute path, data_pattern set to None\n",
    "\n",
    "import os\n",
    "from onekey_algo.classification.run_classification import main as clf_main\n",
    "from collections import namedtuple\n",
    "\n",
    "# parameters setting\n",
    "# save_dir = r'your feature file path'\n",
    "val_f = os.path.join(save_dir, 'val.txt')\n",
    "labels_f = os.path.join(save_dir, 'labels.txt')\n",
    "data_pattern = os.path.join(save_dir, 'images')\n",
    "\n",
    "params = dict(train=train_f,\n",
    "              valid=val_f,\n",
    "              labels_file=labels_f,\n",
    "              data_pattern=data_pattern,\n",
    "              j=0,\n",
    "              max2use=None,\n",
    "              val_max2use=None,\n",
    "              batch_balance=False,\n",
    "              normalize_method='imagenet',\n",
    "              model_name='resnet50',\n",
    "              vit_settings = {'patch_size': 64, 'dim': 1024, 'depth': 6, 'heads': 16, 'mlp_dim': 2048},\n",
    "              gpus=[0],\n",
    "              batch_size=64,\n",
    "              epochs=40,\n",
    "              init_lr=0.01,\n",
    "              optimizer='sgd',\n",
    "              retrain=None,\n",
    "              model_root='.',\n",
    "              add_date=False,\n",
    "              iters_start=0,\n",
    "              iters_verbose=1,\n",
    "              save_per_epoch=False,\n",
    "              pretrained=True)\n",
    "# model training\n",
    "Args = namedtuple(\"Args\", params)\n",
    "clf_main(Args(**params))"
   ]
  },
  {
   "cell_type": "markdown",
   "id": "dfbb2e69",
   "metadata": {},
   "source": []
  },
  {
   "cell_type": "code",
   "execution_count": null,
   "id": "27d4041a",
   "metadata": {},
   "outputs": [],
   "source": []
  },
  {
   "cell_type": "code",
   "execution_count": null,
   "id": "e23e47b6",
   "metadata": {},
   "outputs": [],
   "source": []
  },
  {
   "cell_type": "code",
   "execution_count": null,
   "id": "ce1f8dc1",
   "metadata": {},
   "outputs": [],
   "source": []
  }
 ],
 "metadata": {
  "kernelspec": {
   "display_name": "Python 3 (ipykernel)",
   "language": "python",
   "name": "python3"
  },
  "language_info": {
   "codemirror_mode": {
    "name": "ipython",
    "version": 3
   },
   "file_extension": ".py",
   "mimetype": "text/x-python",
   "name": "python",
   "nbconvert_exporter": "python",
   "pygments_lexer": "ipython3",
   "version": "3.7.12"
  }
 },
 "nbformat": 4,
 "nbformat_minor": 5
}
