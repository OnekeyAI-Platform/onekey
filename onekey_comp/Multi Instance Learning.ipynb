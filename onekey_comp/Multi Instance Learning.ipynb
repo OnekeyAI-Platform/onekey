{
 "cells": [
  {
   "cell_type": "code",
   "execution_count": null,
   "id": "bc59ea2c",
   "metadata": {},
   "outputs": [],
   "source": [
    "# Multi Instance Learning\n",
    "# convert the patch-level feature to Histogram and TF-IDF feature\n",
    "Referance: [Development and interpretation of a pathomics-based model for the prediction of microsatellite instability in Colorectal Cancer](http://www.medai.icu/download?url=http://www.medai.icu/apiv3/attachment.download?sign=1667478d908313ae1e01543e229d02de&attachmentsId=1061&threadId=230)"
   ]
  },
  {
   "cell_type": "code",
   "execution_count": null,
   "id": "a2025640",
   "metadata": {},
   "outputs": [],
   "source": [
    "import pandas as pd\n",
    "from onekey_algo.custom.utils import key2\n",
    "import numpy as np\n",
    "import os\n",
    "\n",
    "log = pd.read_csv('your patch file path', sep='\\t',\n",
    "                 names=['fname', 'prob', 'pred', 'gt'])\n",
    "log['prob'] = list(map(lambda x: x[0] if x[1] == 1 else 1-x[0], np.array(log[['prob', 'pred']])))\n",
    "log[['group']] = log[['fname']].applymap(lambda x: os.path.basename(x).split('_')[0])\n",
    "log['prob'] = log['prob'].round(decimals=2)\n",
    "log.head()"
   ]
  },
  {
   "cell_type": "markdown",
   "id": "66518213",
   "metadata": {},
   "source": []
  },
  {
   "cell_type": "code",
   "execution_count": null,
   "id": "a1723ec3",
   "metadata": {},
   "outputs": [],
   "source": [
    "# Histogram\n",
    "# all data generate histogram features, multiple histo_columns are present, and all features are stitched horizontally\n",
    "# group_column: column name of sample group, sample ID \n",
    "# histo_columns: the columns used to calculate the histogram, if there are multiple columns, each column calculates the histogram, and then the features are stitched       \n",
    "# histo_lists: none or the same number as histo_columns, specifying a list of traits for yourself        \n",
    "# default_value: default value when no feature exists\n",
    "\n",
    "def key2histogram(data: pd.DataFrame, group_column: str, histo_columns: Union[str, List[str]],\n",
    "                  histo_lists: Union[list, List[list]] = None, default_value=0, norm: bool = False):\n",
    "results = key2.key2histogram(log, group_column='group',histo_columns='prob', norm=True)\n",
    "results.to_csv('histogram.csv', header=True, index=False)\n",
    "results"
   ]
  },
  {
   "cell_type": "markdown",
   "id": "9fab1426",
   "metadata": {},
   "source": []
  },
  {
   "cell_type": "code",
   "execution_count": null,
   "id": "bc562191",
   "metadata": {},
   "outputs": [],
   "source": [
    "# Term Frequency-Inverse Document Frequency (TF-IDF)\n",
    "# all data generate histogram features, multiple corpus_columns are present, and all features are stitched horizontally.  \n",
    "# group_column: column name of sample group, sample ID \n",
    "# histo_columns: the column name used to calculate the corpus.\n",
    "def key2tfidf(data: pd.DataFrame, group_column: str, corpus_columns: Union[str, List[str]]):\n",
    "results = key2.key2tfidf(log, group_column='group',corpus_columns='prob')\n",
    "results.to_csv('tfidf.csv', header=True, index=False)\n",
    "results"
   ]
  }
 ],
 "metadata": {
  "kernelspec": {
   "display_name": "Python 3 (ipykernel)",
   "language": "python",
   "name": "python3"
  },
  "language_info": {
   "codemirror_mode": {
    "name": "ipython",
    "version": 3
   },
   "file_extension": ".py",
   "mimetype": "text/x-python",
   "name": "python",
   "nbconvert_exporter": "python",
   "pygments_lexer": "ipython3",
   "version": "3.7.12"
  }
 },
 "nbformat": 4,
 "nbformat_minor": 5
}
