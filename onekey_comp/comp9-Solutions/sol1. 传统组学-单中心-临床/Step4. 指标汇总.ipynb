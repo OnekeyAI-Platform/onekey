{
 "cells": [
  {
   "cell_type": "code",
   "execution_count": null,
   "id": "2a9f5525",
   "metadata": {},
   "outputs": [],
   "source": [
    "import pandas as pd\n",
    "import shutil\n",
    "import os\n",
    "import numpy as np\n",
    "import matplotlib.pyplot as plt\n",
    "import onekey_algo.custom.components as okcomp\n",
    "from onekey_algo import get_param_in_cwd\n",
    "\n",
    "plt.rcParams['figure.dpi'] = 300\n",
    "\n",
    "task = get_param_in_cwd('task_column') or 'label'\n",
    "bst_model = get_param_in_cwd('sel_model') or 'LR'\n",
    "model_names = ['Clinic Signature', 'Rad Signature', 'Nomogram']\n",
    "labels = [task]\n",
    "label_data_ = pd.read_csv('clinic_sel.csv')[['ID', 'label']]\n",
    "label_data_ = label_data_.dropna(axis=0)\n",
    "\n",
    "ids = label_data_['ID']\n",
    "print(label_data_.columns)\n",
    "label_data = label_data_[['ID'] + labels]\n",
    "label_data"
   ]
  },
  {
   "cell_type": "markdown",
   "id": "bac2af6a",
   "metadata": {},
   "source": [
    "# 训练集-Nomogram"
   ]
  },
  {
   "cell_type": "code",
   "execution_count": null,
   "id": "2fb3c452",
   "metadata": {},
   "outputs": [],
   "source": [
    "import pandas as pd\n",
    "\n",
    "Clinic_results = pd.merge(pd.read_csv(f'./results/Clinic_{bst_model}_train.csv', header=0), label_data, on='ID', how='inner')\n",
    "Rad_results = pd.merge(pd.read_csv(f'./results/Rad_{bst_model}_train.csv', header=0), label_data, on='ID', how='inner')\n",
    "\n",
    "ALL_results = pd.merge(Clinic_results, Rad_results, on='ID', how='inner')\n",
    "ALL_results.columns = ['ID', '-0', 'Clinic_Sig', task, '-00', 'Rad_Sig', '-l']\n",
    "\n",
    "ALL_results = ALL_results.dropna(axis=1)\n",
    "ALL_results"
   ]
  },
  {
   "cell_type": "code",
   "execution_count": null,
   "id": "62ebbf93",
   "metadata": {},
   "outputs": [],
   "source": [
    "from sklearn.linear_model import LogisticRegression\n",
    "from sklearn.svm import SVC\n",
    "from onekey_algo.custom.components import metrics\n",
    "\n",
    "model = LogisticRegression(random_state=0)\n",
    "# model = SVC(probability=True, random_state=0)\n",
    "data_x = ALL_results[['Clinic_Sig', 'Rad_Sig']]\n",
    "data_y = ALL_results[task]\n",
    "model.fit(data_x, data_y)\n",
    "results = model.predict_proba(data_x)\n",
    "results = pd.DataFrame(results, index=ALL_results['ID'], columns=[f'{task}-0', f'{task}-1']).reset_index()\n",
    "results.to_csv('./results/Nomo_train.csv', index=False, header=True)\n",
    "pd.DataFrame([metrics.analysis_pred_binary(ALL_results[task], results[f'{task}-1'])], \n",
    "                  columns=['acc', 'auc', '95%CI', 'Sensitivity', 'Specificity', 'PPV', 'NPV', 'Precision', 'Recall', 'F1', 'Threshold'])"
   ]
  },
  {
   "cell_type": "code",
   "execution_count": null,
   "id": "e9f4effb",
   "metadata": {
    "scrolled": false
   },
   "outputs": [],
   "source": [
    "pred_column = [f'{task}-0', f'{task}-1']\n",
    "Nomo_results = pd.merge(pd.read_csv('./results/Nomo_train.csv', header=0), label_data, on='ID', how='inner')\n",
    "gt = [np.array(d) for d in [Clinic_results[labels], Rad_results[labels], Nomo_results[labels]]]\n",
    "pred_train = [np.array(d) for d in [Clinic_results[pred_column], Rad_results[pred_column], Nomo_results[pred_column]]]\n",
    "okcomp.comp1.draw_roc(gt, pred_train, labels=model_names,  \n",
    "                      title=f\"Model AUC\")\n",
    "plt.savefig(f'img/train_auc.svg')"
   ]
  },
  {
   "cell_type": "code",
   "execution_count": null,
   "id": "de1a5b8d",
   "metadata": {},
   "outputs": [],
   "source": [
    "from onekey_algo.custom.components.metrics import analysis_pred_binary\n",
    "metric = []\n",
    "for mname, y, score in zip(model_names, gt, pred_train):\n",
    "    # 计算验证集指标\n",
    "    acc, auc, ci, tpr, tnr, ppv, npv, precision, recall, f1, thres = analysis_pred_binary(y, score)\n",
    "    ci = f\"{ci[0]:.4f} - {ci[1]:.4f}\"\n",
    "    metric.append((mname, acc, auc, ci, tpr, tnr, ppv, npv, precision, recall, f1, thres, f\"Train\"))\n",
    "pd.DataFrame(metric, index=None, columns=['Signature', 'Accuracy', 'AUC', '95% CI', 'Sensitivity', 'Specificity', \n",
    "                                          'PPV', 'NPV', 'Precision', 'Recall', 'F1','Threshold', 'Cohort'])"
   ]
  },
  {
   "cell_type": "code",
   "execution_count": null,
   "id": "5e5a0eeb",
   "metadata": {},
   "outputs": [],
   "source": [
    "from onekey_algo.custom.components.delong import delong_roc_test\n",
    "\n",
    "Nomo_results.columns = ['ID', '-00000', 'Nomogram', '-llll']\n",
    "results = pd.merge(ALL_results, Nomo_results, on='ID', how='inner')\n",
    "\n",
    "delong = []\n",
    "delong.append([delong_roc_test(results[task], results[f'Nomogram'], results[f'Clinic_Sig'])[0][0],\n",
    "              delong_roc_test(results[task], results[f'Nomogram'], results[f'Rad_Sig'])[0][0], 'Train'])\n",
    "pd.DataFrame(delong, columns=['Nomogram Vs Clinic', 'Nomogram Vs Rad', 'cohort'])"
   ]
  },
  {
   "cell_type": "code",
   "execution_count": null,
   "id": "e14a69c0",
   "metadata": {},
   "outputs": [],
   "source": [
    "from onekey_algo.custom.components.comp1 import plot_DCA\n",
    "plot_DCA([results[f'Clinic_Sig'], results[f'Rad_Sig'], results[f'Nomogram']], \n",
    "         results[task], title=f'Model for DCA', labels=model_names)\n",
    "plt.savefig(f'img/train_dca.svg')"
   ]
  },
  {
   "cell_type": "code",
   "execution_count": null,
   "id": "4c119fb9",
   "metadata": {},
   "outputs": [],
   "source": [
    "from onekey_algo.custom.components.comp1 import draw_calibration\n",
    "draw_calibration(pred_scores=pred_train, n_bins=10,\n",
    "                 y_test=gt, model_names=model_names)\n",
    "plt.savefig(f'img/train_cali.svg')"
   ]
  },
  {
   "cell_type": "code",
   "execution_count": null,
   "id": "c319c74d",
   "metadata": {},
   "outputs": [],
   "source": [
    "from onekey_algo.custom.components import stats\n",
    "\n",
    "hosmer = []\n",
    "hosmer.append([stats.hosmer_lemeshow_test(y_true, y_pred[:,1], bins=15) \n",
    "              for fn, y_true, y_pred in zip(model_names, gt, pred_train)])\n",
    "pd.DataFrame(hosmer, columns=model_names)"
   ]
  },
  {
   "cell_type": "markdown",
   "id": "f34c52da",
   "metadata": {},
   "source": [
    "# 测试集-Nomogram"
   ]
  },
  {
   "cell_type": "code",
   "execution_count": null,
   "id": "5ca689b2",
   "metadata": {
    "scrolled": true
   },
   "outputs": [],
   "source": [
    "import pandas as pd\n",
    "\n",
    "Clinic_results = pd.merge(pd.read_csv(f'./results/Clinic_{bst_model}_test.csv', header=0), label_data, on='ID', how='inner')\n",
    "Rad_results = pd.merge(pd.read_csv(f'./results/Rad_{bst_model}_test.csv', header=0), label_data, on='ID', how='inner')\n",
    "\n",
    "ALL_results = pd.merge(Clinic_results, Rad_results, on='ID', how='inner')\n",
    "ALL_results.columns = ['ID', '-0', 'Clinic_Sig', task, '-00', 'Rad_Sig', '-l']\n",
    "\n",
    "ALL_results = ALL_results.dropna(axis=1)\n",
    "ALL_results"
   ]
  },
  {
   "cell_type": "code",
   "execution_count": null,
   "id": "18b3109c",
   "metadata": {},
   "outputs": [],
   "source": [
    "from sklearn.linear_model import LogisticRegression\n",
    "from sklearn.svm import SVC\n",
    "from onekey_algo.custom.components import metrics\n",
    "\n",
    "model = LogisticRegression(random_state=0)\n",
    "# model = SVC(probability=True, random_state=0)\n",
    "data_x = ALL_results[['Clinic_Sig', 'Rad_Sig']]\n",
    "data_y = ALL_results[task]\n",
    "model.fit(data_x, data_y)\n",
    "results = model.predict_proba(data_x)\n",
    "results = pd.DataFrame(results, index=ALL_results['ID'], columns=[f'{task}-0', f'{task}-1']).reset_index()\n",
    "results.to_csv('./results/Nomo_test.csv', index=False, header=True)\n",
    "pd.DataFrame([metrics.analysis_pred_binary(ALL_results[task], results[f'{task}-1'])], \n",
    "                  columns=['acc', 'auc', '95%CI', 'Sensitivity', 'Specificity', 'PPV', 'NPV', 'Precision', 'Recall', 'F1', 'Threshold'])"
   ]
  },
  {
   "cell_type": "code",
   "execution_count": null,
   "id": "dff7d1f3",
   "metadata": {},
   "outputs": [],
   "source": [
    "pred_column = [f'{task}-0', f'{task}-1']\n",
    "Nomo_results = pd.merge(pd.read_csv('./results/Nomo_test.csv', header=0), label_data, on='ID', how='inner')\n",
    "gt = [np.array(d) for d in [Clinic_results[labels], Rad_results[labels], Nomo_results[labels]]]\n",
    "pred_train = [np.array(d) for d in [Clinic_results[pred_column], Rad_results[pred_column], Nomo_results[pred_column]]]\n",
    "okcomp.comp1.draw_roc(gt, pred_train, labels=model_names,  \n",
    "                      title=f\"Model AUC\")\n",
    "plt.savefig(f'img/test_auc.svg')"
   ]
  },
  {
   "cell_type": "code",
   "execution_count": null,
   "id": "13228231",
   "metadata": {},
   "outputs": [],
   "source": [
    "from onekey_algo.custom.components.metrics import analysis_pred_binary\n",
    "for mname, y, score in zip(model_names, gt, pred_train):\n",
    "    # 计算验证集指标\n",
    "    acc, auc, ci, tpr, tnr, ppv, npv, precision, recall, f1, thres = analysis_pred_binary(y, score)\n",
    "    ci = f\"{ci[0]:.4f} - {ci[1]:.4f}\"\n",
    "    metric.append((mname, acc, auc, ci, tpr, tnr, ppv, npv, precision, recall, f1, thres, f\"Test\"))\n",
    "metric = pd.DataFrame(metric, index=None, columns=['Signature', 'Accuracy', 'AUC', '95% CI',\n",
    "                                                   'Sensitivity', 'Specificity', \n",
    "                                                   'PPV', 'NPV', 'Precision', 'Recall', 'F1',\n",
    "                                                   'Threshold', 'Cohort'])\n",
    "\n",
    "metric"
   ]
  },
  {
   "cell_type": "code",
   "execution_count": null,
   "id": "e6d15a26",
   "metadata": {},
   "outputs": [],
   "source": [
    "from onekey_algo.custom.components.delong import delong_roc_test\n",
    "\n",
    "Nomo_results.columns = ['ID', '-00000', 'Nomogram', '-llll']\n",
    "results = pd.merge(ALL_results, Nomo_results, on='ID', how='inner')\n",
    "\n",
    "delong.append([delong_roc_test(results[task], results[f'Nomogram'], results[f'Clinic_Sig'])[0][0],\n",
    "              delong_roc_test(results[task], results[f'Nomogram'], results[f'Rad_Sig'])[0][0], 'Test'])\n",
    "pd.DataFrame(delong, columns=['Nomogram Vs Clinic', 'Nomogram Vs Rad', 'cohort'])"
   ]
  },
  {
   "cell_type": "code",
   "execution_count": null,
   "id": "37b99f0f",
   "metadata": {},
   "outputs": [],
   "source": [
    "from onekey_algo.custom.components.comp1 import plot_DCA\n",
    "plot_DCA([results[f'Clinic_Sig'], results[f'Rad_Sig'], results[f'Nomogram']], \n",
    "         results[task], title=f'Model for DCA', labels=model_names)\n",
    "plt.savefig(f'img/test_dca.svg')"
   ]
  },
  {
   "cell_type": "code",
   "execution_count": null,
   "id": "d87536e0",
   "metadata": {},
   "outputs": [],
   "source": [
    "from onekey_algo.custom.components.comp1 import draw_calibration\n",
    "draw_calibration(pred_scores=pred_train, n_bins=5,\n",
    "                 y_test=gt, model_names=model_names)\n",
    "plt.savefig(f'img/test_cali.svg')"
   ]
  },
  {
   "cell_type": "code",
   "execution_count": null,
   "id": "6aebbe07",
   "metadata": {},
   "outputs": [],
   "source": [
    "from onekey_algo.custom.components import stats\n",
    "\n",
    "hosmer.append([stats.hosmer_lemeshow_test(y_true, y_pred[:,1], bins=5) \n",
    "              for fn, y_true, y_pred in zip(model_names, gt, pred_train)])\n",
    "pd.DataFrame(hosmer, columns=model_names)"
   ]
  },
  {
   "cell_type": "code",
   "execution_count": null,
   "id": "6fd82692",
   "metadata": {},
   "outputs": [],
   "source": [
    "from onekey_algo.custom.components import nomogram\n",
    "import shutil\n",
    "\n",
    "nomogram.risk_nomogram(ALL_results, result=task, columns=['Clinic_Sig', 'Rad_Sig'], width=8000, height=3000,\n",
    "                      x_range='0.01,0.25,0.5,0.75,0.99')"
   ]
  },
  {
   "cell_type": "code",
   "execution_count": null,
   "id": "a2fb0fe5",
   "metadata": {},
   "outputs": [],
   "source": []
  }
 ],
 "metadata": {
  "kernelspec": {
   "display_name": "Python 3 (ipykernel)",
   "language": "python",
   "name": "python3"
  },
  "language_info": {
   "codemirror_mode": {
    "name": "ipython",
    "version": 3
   },
   "file_extension": ".py",
   "mimetype": "text/x-python",
   "name": "python",
   "nbconvert_exporter": "python",
   "pygments_lexer": "ipython3",
   "version": "3.7.12"
  }
 },
 "nbformat": 4,
 "nbformat_minor": 5
}
