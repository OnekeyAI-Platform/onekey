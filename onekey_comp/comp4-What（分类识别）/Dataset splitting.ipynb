{
 "cells": [
  {
   "cell_type": "markdown",
   "id": "45cf0f85",
   "metadata": {},
   "source": [
    "# dataset splitting\n",
    "\n",
    "dataset splitting, cross-validation or random partitioning\n",
    "\n",
    "```python\n",
    "def split_dataset(X_data: pd.DataFrame, y_data: pd.DataFrame = None, test_size=0.2, n_trails=10,\n",
    "                  cv: bool = False, shuffle: bool = False, random_state=None, save_dir=None):\n",
    "    \"\"\"\n",
    "    dataset splitting\n",
    "    Args:\n",
    "        X_data: trainning dataset\n",
    "        y_data: validation dataset\n",
    "        test_size: sample size\n",
    "        n_trails: splitting times\n",
    "        cv: whether it is cross-validation, default is False. when it is True, n_trails is cross-validatedn_fold\n",
    "        shuffle: whether to perform random shuffling\n",
    "        random_state: random seed\n",
    "        save_dir: file saved path\n",
    "\n",
    "    Returns: data list after splitting\n",
    "\n",
    "    \"\"\"\n",
    " ```"
   ]
  },
  {
   "cell_type": "code",
   "execution_count": null,
   "id": "31f0e7a6",
   "metadata": {},
   "outputs": [],
   "source": [
    "import os\n",
    "import pandas as pd\n",
    "\n",
    "from onekey_algo import OnekeyDS as okds\n",
    "from onekey_algo.custom.components.comp2 import split_dataset\n",
    "\n",
    "data = pd.read_csv(os.path.join(okds.ct, 'label.csv'))\n",
    "\n",
    "rt = split_dataset(data, data['label'], cv=False, save_dir='.')\n",
    "x1, x2 = rt[0]"
   ]
  },
  {
   "cell_type": "code",
   "execution_count": null,
   "id": "006b7c34",
   "metadata": {},
   "outputs": [],
   "source": [
    "x1"
   ]
  },
  {
   "cell_type": "code",
   "execution_count": null,
   "id": "a5544e6d",
   "metadata": {},
   "outputs": [],
   "source": [
    "x2"
   ]
  },
  {
   "cell_type": "code",
   "execution_count": null,
   "id": "c1eabae6",
   "metadata": {},
   "outputs": [],
   "source": []
  }
 ],
 "metadata": {
  "kernelspec": {
   "display_name": "Python 3 (ipykernel)",
   "language": "python",
   "name": "python3"
  },
  "language_info": {
   "codemirror_mode": {
    "name": "ipython",
    "version": 3
   },
   "file_extension": ".py",
   "mimetype": "text/x-python",
   "name": "python",
   "nbconvert_exporter": "python",
   "pygments_lexer": "ipython3",
   "version": "3.7.12"
  }
 },
 "nbformat": 4,
 "nbformat_minor": 5
}
